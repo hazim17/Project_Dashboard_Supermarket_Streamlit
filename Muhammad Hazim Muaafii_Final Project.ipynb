{
 "cells": [
  {
   "cell_type": "markdown",
   "metadata": {
    "id": "V5koKlBH8w08"
   },
   "source": [
    "# Final Project Master Class DS H8\n",
    "\n",
    "Buatlah sebuah dashboard menggunakan streamlit dengan kriteria sebagai berikut:\n",
    "1. Data yang digunakan adalah file \"supermarket_sales - Sheet1.csv\"\n",
    "2. Tampilkan paling tidak 4 diagram dan paling tidak 1 diagram dibuat secara interaktif\n",
    "3. Diagram harus sesuai dengan masalah yang ingin dibahas dan sesuai dengan kepada siapa dashboard ditujukan\n",
    "4. Layout, warna, dan lainnya yang berkaitan dengan tampilan dibebaskan\n",
    "5. Buat semenarik mungkin dan informatif\n",
    "6. Dashboard akan dipresentasikan pada pertemuan terakhir dengan durasi 3 menit\n",
    "7. File .py dikumpulkan paling lambat Hari Jumat, 5 November 2021"
   ]
  },
  {
   "cell_type": "markdown",
   "metadata": {
    "id": "7nuWf6NBD_8H"
   },
   "source": [
    "# Supermarket Sales Performance and Buyer Behavior Characteristics"
   ]
  },
  {
   "cell_type": "code",
   "execution_count": 20,
   "metadata": {
    "executionInfo": {
     "elapsed": 371,
     "status": "ok",
     "timestamp": 1636217460413,
     "user": {
      "displayName": "MH M",
      "photoUrl": "https://lh3.googleusercontent.com/a/default-user=s64",
      "userId": "08161873914285380179"
     },
     "user_tz": -420
    },
    "id": "I9KtmBHE8w1M"
   },
   "outputs": [],
   "source": [
    "# import \n",
    "import pandas as pd\n",
    "import numpy as np\n",
    "import matplotlib.pyplot as plt\n",
    "import seaborn as sns\n",
    "\n",
    "# import plotly\n",
    "# import plotly.express as px\n",
    "# import plotly.graph_objs as go\n",
    "# import plotly.offline as py\n",
    "# from plotly.offline import iplot\n",
    "# from plotly.subplots import make_subplots\n",
    "# import plotly.figure_factory as ff\n",
    "\n",
    "\n",
    "import warnings\n",
    "warnings.filterwarnings('ignore')\n"
   ]
  },
  {
   "cell_type": "code",
   "execution_count": 21,
   "metadata": {
    "id": "YG7sTPqc8w1R",
    "outputId": "78f0022e-58d1-4650-b787-a5c8643d1c84"
   },
   "outputs": [
    {
     "data": {
      "text/html": [
       "<div>\n",
       "<style scoped>\n",
       "    .dataframe tbody tr th:only-of-type {\n",
       "        vertical-align: middle;\n",
       "    }\n",
       "\n",
       "    .dataframe tbody tr th {\n",
       "        vertical-align: top;\n",
       "    }\n",
       "\n",
       "    .dataframe thead th {\n",
       "        text-align: right;\n",
       "    }\n",
       "</style>\n",
       "<table border=\"1\" class=\"dataframe\">\n",
       "  <thead>\n",
       "    <tr style=\"text-align: right;\">\n",
       "      <th></th>\n",
       "      <th>Invoice ID</th>\n",
       "      <th>Branch</th>\n",
       "      <th>City</th>\n",
       "      <th>Customer type</th>\n",
       "      <th>Gender</th>\n",
       "      <th>Product line</th>\n",
       "      <th>Unit price</th>\n",
       "      <th>Quantity</th>\n",
       "      <th>Tax 5%</th>\n",
       "      <th>Total</th>\n",
       "      <th>Date</th>\n",
       "      <th>Time</th>\n",
       "      <th>Payment</th>\n",
       "      <th>cogs</th>\n",
       "      <th>gross margin percentage</th>\n",
       "      <th>gross income</th>\n",
       "      <th>Rating</th>\n",
       "    </tr>\n",
       "  </thead>\n",
       "  <tbody>\n",
       "    <tr>\n",
       "      <th>0</th>\n",
       "      <td>750-67-8428</td>\n",
       "      <td>A</td>\n",
       "      <td>Yangon</td>\n",
       "      <td>Member</td>\n",
       "      <td>Female</td>\n",
       "      <td>Health and beauty</td>\n",
       "      <td>74.69</td>\n",
       "      <td>7</td>\n",
       "      <td>26.1415</td>\n",
       "      <td>548.9715</td>\n",
       "      <td>2019-01-05</td>\n",
       "      <td>13:08</td>\n",
       "      <td>Ewallet</td>\n",
       "      <td>522.83</td>\n",
       "      <td>4.761905</td>\n",
       "      <td>26.1415</td>\n",
       "      <td>9.1</td>\n",
       "    </tr>\n",
       "    <tr>\n",
       "      <th>1</th>\n",
       "      <td>226-31-3081</td>\n",
       "      <td>C</td>\n",
       "      <td>Naypyitaw</td>\n",
       "      <td>Normal</td>\n",
       "      <td>Female</td>\n",
       "      <td>Electronic accessories</td>\n",
       "      <td>15.28</td>\n",
       "      <td>5</td>\n",
       "      <td>3.8200</td>\n",
       "      <td>80.2200</td>\n",
       "      <td>2019-03-08</td>\n",
       "      <td>10:29</td>\n",
       "      <td>Cash</td>\n",
       "      <td>76.40</td>\n",
       "      <td>4.761905</td>\n",
       "      <td>3.8200</td>\n",
       "      <td>9.6</td>\n",
       "    </tr>\n",
       "    <tr>\n",
       "      <th>2</th>\n",
       "      <td>631-41-3108</td>\n",
       "      <td>A</td>\n",
       "      <td>Yangon</td>\n",
       "      <td>Normal</td>\n",
       "      <td>Male</td>\n",
       "      <td>Home and lifestyle</td>\n",
       "      <td>46.33</td>\n",
       "      <td>7</td>\n",
       "      <td>16.2155</td>\n",
       "      <td>340.5255</td>\n",
       "      <td>2019-03-03</td>\n",
       "      <td>13:23</td>\n",
       "      <td>Credit card</td>\n",
       "      <td>324.31</td>\n",
       "      <td>4.761905</td>\n",
       "      <td>16.2155</td>\n",
       "      <td>7.4</td>\n",
       "    </tr>\n",
       "    <tr>\n",
       "      <th>3</th>\n",
       "      <td>123-19-1176</td>\n",
       "      <td>A</td>\n",
       "      <td>Yangon</td>\n",
       "      <td>Member</td>\n",
       "      <td>Male</td>\n",
       "      <td>Health and beauty</td>\n",
       "      <td>58.22</td>\n",
       "      <td>8</td>\n",
       "      <td>23.2880</td>\n",
       "      <td>489.0480</td>\n",
       "      <td>2019-01-27</td>\n",
       "      <td>20:33</td>\n",
       "      <td>Ewallet</td>\n",
       "      <td>465.76</td>\n",
       "      <td>4.761905</td>\n",
       "      <td>23.2880</td>\n",
       "      <td>8.4</td>\n",
       "    </tr>\n",
       "    <tr>\n",
       "      <th>4</th>\n",
       "      <td>373-73-7910</td>\n",
       "      <td>A</td>\n",
       "      <td>Yangon</td>\n",
       "      <td>Normal</td>\n",
       "      <td>Male</td>\n",
       "      <td>Sports and travel</td>\n",
       "      <td>86.31</td>\n",
       "      <td>7</td>\n",
       "      <td>30.2085</td>\n",
       "      <td>634.3785</td>\n",
       "      <td>2019-02-08</td>\n",
       "      <td>10:37</td>\n",
       "      <td>Ewallet</td>\n",
       "      <td>604.17</td>\n",
       "      <td>4.761905</td>\n",
       "      <td>30.2085</td>\n",
       "      <td>5.3</td>\n",
       "    </tr>\n",
       "  </tbody>\n",
       "</table>\n",
       "</div>"
      ],
      "text/plain": [
       "    Invoice ID Branch       City Customer type  Gender  \\\n",
       "0  750-67-8428      A     Yangon        Member  Female   \n",
       "1  226-31-3081      C  Naypyitaw        Normal  Female   \n",
       "2  631-41-3108      A     Yangon        Normal    Male   \n",
       "3  123-19-1176      A     Yangon        Member    Male   \n",
       "4  373-73-7910      A     Yangon        Normal    Male   \n",
       "\n",
       "             Product line  Unit price  Quantity   Tax 5%     Total       Date  \\\n",
       "0       Health and beauty       74.69         7  26.1415  548.9715 2019-01-05   \n",
       "1  Electronic accessories       15.28         5   3.8200   80.2200 2019-03-08   \n",
       "2      Home and lifestyle       46.33         7  16.2155  340.5255 2019-03-03   \n",
       "3       Health and beauty       58.22         8  23.2880  489.0480 2019-01-27   \n",
       "4       Sports and travel       86.31         7  30.2085  634.3785 2019-02-08   \n",
       "\n",
       "    Time      Payment    cogs  gross margin percentage  gross income  Rating  \n",
       "0  13:08      Ewallet  522.83                 4.761905       26.1415     9.1  \n",
       "1  10:29         Cash   76.40                 4.761905        3.8200     9.6  \n",
       "2  13:23  Credit card  324.31                 4.761905       16.2155     7.4  \n",
       "3  20:33      Ewallet  465.76                 4.761905       23.2880     8.4  \n",
       "4  10:37      Ewallet  604.17                 4.761905       30.2085     5.3  "
      ]
     },
     "execution_count": 21,
     "metadata": {},
     "output_type": "execute_result"
    }
   ],
   "source": [
    "# Read the data\n",
    "# from jupyter notebook\n",
    "df = pd.read_csv('data/supermarket_sales - Sheet1.csv')\n",
    "df['Date'] = df.Date.astype('datetime64[ns]')\n",
    "df.head()"
   ]
  },
  {
   "cell_type": "code",
   "execution_count": 22,
   "metadata": {
    "colab": {
     "base_uri": "https://localhost:8080/"
    },
    "executionInfo": {
     "elapsed": 25311,
     "status": "ok",
     "timestamp": 1636214321773,
     "user": {
      "displayName": "MH M",
      "photoUrl": "https://lh3.googleusercontent.com/a/default-user=s64",
      "userId": "08161873914285380179"
     },
     "user_tz": -420
    },
    "id": "8q4EJKOL-KaV",
    "outputId": "7ea9ba72-363c-439e-dd55-834ad019a4f5"
   },
   "outputs": [],
   "source": [
    "# from google.colab import drive\n",
    "# drive.mount('/content/drive')"
   ]
  },
  {
   "cell_type": "code",
   "execution_count": 23,
   "metadata": {
    "colab": {
     "base_uri": "https://localhost:8080/",
     "height": 343
    },
    "executionInfo": {
     "elapsed": 448,
     "status": "ok",
     "timestamp": 1636214364634,
     "user": {
      "displayName": "MH M",
      "photoUrl": "https://lh3.googleusercontent.com/a/default-user=s64",
      "userId": "08161873914285380179"
     },
     "user_tz": -420
    },
    "id": "cHgBo_Hk-CfL",
    "outputId": "51e8aafa-a17e-49b0-bf85-df487fa8927f"
   },
   "outputs": [],
   "source": [
    "# # Read the data\n",
    "# # from google colab\n",
    "# path = '/content/drive/MyDrive/ds-masterclass-h8-vol2/Projek_akhir/data/supermarket_sales - Sheet1.csv'\n",
    "# df = pd.read_csv(path)\n",
    "# df['Date'] = df.Date.astype('datetime64[ns]')\n",
    "# df.head()"
   ]
  },
  {
   "cell_type": "markdown",
   "metadata": {
    "id": "ZnnNOtsJ8w1V"
   },
   "source": [
    "## Data tiap Kolom\n",
    "- Branch: The store, different city different name of the store\n",
    "- City: The city \n",
    "- customer type: type of customer (membe or normal)\n",
    "- Gender: Male, female\n",
    "- Product Line: The type of product\n",
    "- Unit Price: price of each product\n",
    "- Quantity: how many the customer buy the product\n",
    "- Tax: tax to the price times quantity\n",
    "- Total: Total price the customer must pay \n",
    "- Data & time: time they buy the product\n",
    "- Payment: How to pay the product\n",
    "- cogs: Cost of Goods Sold or COGS is the amount of expenses and expenses incurred directly or indirectly to produce products or services.\n",
    "- Gross margin: Gross margin shows the amount of profit earned before deducting selling, general and administrative (SG&A) expenses.\n",
    "- Gross Income\n",
    "- Rating: From customer to the store"
   ]
  },
  {
   "cell_type": "code",
   "execution_count": 24,
   "metadata": {
    "colab": {
     "base_uri": "https://localhost:8080/"
    },
    "executionInfo": {
     "elapsed": 390,
     "status": "ok",
     "timestamp": 1636215038375,
     "user": {
      "displayName": "MH M",
      "photoUrl": "https://lh3.googleusercontent.com/a/default-user=s64",
      "userId": "08161873914285380179"
     },
     "user_tz": -420
    },
    "id": "cIRW0UNH8w1Z",
    "outputId": "12a68b2e-9fd7-4a3f-9adc-361b476a7c2e"
   },
   "outputs": [
    {
     "name": "stdout",
     "output_type": "stream",
     "text": [
      "<class 'pandas.core.frame.DataFrame'>\n",
      "RangeIndex: 1000 entries, 0 to 999\n",
      "Data columns (total 17 columns):\n",
      " #   Column                   Non-Null Count  Dtype         \n",
      "---  ------                   --------------  -----         \n",
      " 0   Invoice ID               1000 non-null   object        \n",
      " 1   Branch                   1000 non-null   object        \n",
      " 2   City                     1000 non-null   object        \n",
      " 3   Customer type            1000 non-null   object        \n",
      " 4   Gender                   1000 non-null   object        \n",
      " 5   Product line             1000 non-null   object        \n",
      " 6   Unit price               1000 non-null   float64       \n",
      " 7   Quantity                 1000 non-null   int64         \n",
      " 8   Tax 5%                   1000 non-null   float64       \n",
      " 9   Total                    1000 non-null   float64       \n",
      " 10  Date                     1000 non-null   datetime64[ns]\n",
      " 11  Time                     1000 non-null   object        \n",
      " 12  Payment                  1000 non-null   object        \n",
      " 13  cogs                     1000 non-null   float64       \n",
      " 14  gross margin percentage  1000 non-null   float64       \n",
      " 15  gross income             1000 non-null   float64       \n",
      " 16  Rating                   1000 non-null   float64       \n",
      "dtypes: datetime64[ns](1), float64(7), int64(1), object(8)\n",
      "memory usage: 132.9+ KB\n"
     ]
    }
   ],
   "source": [
    "df.info()"
   ]
  },
  {
   "cell_type": "markdown",
   "metadata": {
    "id": "BeOZGIEnELzc"
   },
   "source": [
    "# Supermarket Sales Performance"
   ]
  },
  {
   "cell_type": "markdown",
   "metadata": {
    "id": "Sw-vIBLyEL8m"
   },
   "source": [
    "## look the how many transaction sell in each branch branch and city"
   ]
  },
  {
   "cell_type": "code",
   "execution_count": 25,
   "metadata": {
    "colab": {
     "base_uri": "https://localhost:8080/"
    },
    "executionInfo": {
     "elapsed": 419,
     "status": "ok",
     "timestamp": 1636215700486,
     "user": {
      "displayName": "MH M",
      "photoUrl": "https://lh3.googleusercontent.com/a/default-user=s64",
      "userId": "08161873914285380179"
     },
     "user_tz": -420
    },
    "id": "B-6NybNQBI__",
    "outputId": "4abc7266-2629-4a1f-b59a-1e790842da1d"
   },
   "outputs": [
    {
     "data": {
      "text/plain": [
       "Branch  City     \n",
       "A       Yangon       340\n",
       "B       Mandalay     332\n",
       "C       Naypyitaw    328\n",
       "Name: Invoice ID, dtype: int64"
      ]
     },
     "execution_count": 25,
     "metadata": {},
     "output_type": "execute_result"
    }
   ],
   "source": [
    "# look the how many transaction sell in each branch branch and city\n",
    "data0 = df.groupby(['Branch', 'City'])['Invoice ID'].count()\n",
    "data0"
   ]
  },
  {
   "cell_type": "markdown",
   "metadata": {
    "id": "4IWSE-wkEVL7"
   },
   "source": [
    "## Gross Income and COGS in each Branch"
   ]
  },
  {
   "cell_type": "code",
   "execution_count": 26,
   "metadata": {
    "colab": {
     "base_uri": "https://localhost:8080/",
     "height": 173
    },
    "executionInfo": {
     "elapsed": 393,
     "status": "ok",
     "timestamp": 1636215713387,
     "user": {
      "displayName": "MH M",
      "photoUrl": "https://lh3.googleusercontent.com/a/default-user=s64",
      "userId": "08161873914285380179"
     },
     "user_tz": -420
    },
    "id": "DSoqCihd8w1c",
    "outputId": "6e968543-7e28-4ecd-9956-1b3328dbab3b"
   },
   "outputs": [
    {
     "data": {
      "text/html": [
       "<div>\n",
       "<style scoped>\n",
       "    .dataframe tbody tr th:only-of-type {\n",
       "        vertical-align: middle;\n",
       "    }\n",
       "\n",
       "    .dataframe tbody tr th {\n",
       "        vertical-align: top;\n",
       "    }\n",
       "\n",
       "    .dataframe thead th {\n",
       "        text-align: right;\n",
       "    }\n",
       "</style>\n",
       "<table border=\"1\" class=\"dataframe\">\n",
       "  <thead>\n",
       "    <tr style=\"text-align: right;\">\n",
       "      <th></th>\n",
       "      <th>cogs</th>\n",
       "      <th>gross income</th>\n",
       "    </tr>\n",
       "    <tr>\n",
       "      <th>Branch</th>\n",
       "      <th></th>\n",
       "      <th></th>\n",
       "    </tr>\n",
       "  </thead>\n",
       "  <tbody>\n",
       "    <tr>\n",
       "      <th>A</th>\n",
       "      <td>101143.21</td>\n",
       "      <td>5057.1605</td>\n",
       "    </tr>\n",
       "    <tr>\n",
       "      <th>B</th>\n",
       "      <td>101140.64</td>\n",
       "      <td>5057.0320</td>\n",
       "    </tr>\n",
       "    <tr>\n",
       "      <th>C</th>\n",
       "      <td>105303.53</td>\n",
       "      <td>5265.1765</td>\n",
       "    </tr>\n",
       "  </tbody>\n",
       "</table>\n",
       "</div>"
      ],
      "text/plain": [
       "             cogs  gross income\n",
       "Branch                         \n",
       "A       101143.21     5057.1605\n",
       "B       101140.64     5057.0320\n",
       "C       105303.53     5265.1765"
      ]
     },
     "execution_count": 26,
     "metadata": {},
     "output_type": "execute_result"
    }
   ],
   "source": [
    "# Gross Income and COGS in each Branch\n",
    "data1 = df.groupby(['Branch'])[['cogs', 'gross income']].sum()\n",
    "data1"
   ]
  },
  {
   "cell_type": "code",
   "execution_count": 27,
   "metadata": {
    "colab": {
     "base_uri": "https://localhost:8080/"
    },
    "executionInfo": {
     "elapsed": 362,
     "status": "ok",
     "timestamp": 1636215728937,
     "user": {
      "displayName": "MH M",
      "photoUrl": "https://lh3.googleusercontent.com/a/default-user=s64",
      "userId": "08161873914285380179"
     },
     "user_tz": -420
    },
    "id": "X4HaBns18w1g",
    "outputId": "7773e163-761c-40bf-b691-afb9da54b818"
   },
   "outputs": [
    {
     "data": {
      "text/plain": [
       "Branch\n",
       "A    101143.21\n",
       "B    101140.64\n",
       "C    105303.53\n",
       "Name: cogs, dtype: float64"
      ]
     },
     "execution_count": 27,
     "metadata": {},
     "output_type": "execute_result"
    }
   ],
   "source": [
    "data1.cogs"
   ]
  },
  {
   "cell_type": "code",
   "execution_count": 28,
   "metadata": {
    "colab": {
     "base_uri": "https://localhost:8080/",
     "height": 295
    },
    "executionInfo": {
     "elapsed": 429,
     "status": "ok",
     "timestamp": 1636215746965,
     "user": {
      "displayName": "MH M",
      "photoUrl": "https://lh3.googleusercontent.com/a/default-user=s64",
      "userId": "08161873914285380179"
     },
     "user_tz": -420
    },
    "id": "Vl0-MWM38w1k",
    "outputId": "c6c8a5f5-ceb1-44ce-a1e3-a6d193457802"
   },
   "outputs": [
    {
     "data": {
      "image/png": "[encoded data removed]",
      "text/plain": [
       "<Figure size 432x288 with 1 Axes>"
      ]
     },
     "metadata": {
      "needs_background": "light"
     },
     "output_type": "display_data"
    }
   ],
   "source": [
    "# Plot 1\n",
    "# Gross Income per Branch\n",
    "x_axis = ('A', 'B', 'C')\n",
    "y_axis = data1['gross income']\n",
    "\n",
    "plt.bar(x_axis, y_axis, align='center', alpha=0.5)\n",
    "plt.xlabel('Branch')\n",
    "plt.ylabel('Gross Income')\n",
    "plt.title('Gross Income per Branch')\n",
    "\n",
    "plt.show()"
   ]
  },
  {
   "cell_type": "code",
   "execution_count": 29,
   "metadata": {
    "colab": {
     "base_uri": "https://localhost:8080/",
     "height": 295
    },
    "executionInfo": {
     "elapsed": 403,
     "status": "ok",
     "timestamp": 1636215750592,
     "user": {
      "displayName": "MH M",
      "photoUrl": "https://lh3.googleusercontent.com/a/default-user=s64",
      "userId": "08161873914285380179"
     },
     "user_tz": -420
    },
    "id": "oI5l6zKA8w1m",
    "outputId": "263d4a03-d72d-41bb-f4b5-8430442c49e0"
   },
   "outputs": [
    {
     "data": {
      "image/png": "[encoded data removed]",
      "text/plain": [
       "<Figure size 432x288 with 1 Axes>"
      ]
     },
     "metadata": {
      "needs_background": "light"
     },
     "output_type": "display_data"
    }
   ],
   "source": [
    "# Plot 2\n",
    "# Cost of goods sold per Branch\n",
    "\n",
    "x_axis = ('A', 'B', 'C')\n",
    "y_axis = data1['cogs']\n",
    "\n",
    "plt.bar(x_axis, y_axis, align='center', alpha=0.5, color='red')\n",
    "plt.xlabel('Branch')\n",
    "plt.ylabel('COGS')\n",
    "plt.title('Cost of goods sold (COGS) per Branch')\n",
    "\n",
    "plt.show()"
   ]
  },
  {
   "cell_type": "markdown",
   "metadata": {
    "id": "3AkomQv9Ev58"
   },
   "source": [
    "## Look at the gross income in each store"
   ]
  },
  {
   "cell_type": "code",
   "execution_count": 30,
   "metadata": {
    "colab": {
     "base_uri": "https://localhost:8080/"
    },
    "executionInfo": {
     "elapsed": 494,
     "status": "ok",
     "timestamp": 1636216469969,
     "user": {
      "displayName": "MH M",
      "photoUrl": "https://lh3.googleusercontent.com/a/default-user=s64",
      "userId": "08161873914285380179"
     },
     "user_tz": -420
    },
    "id": "NV9A6TZHFkPw",
    "outputId": "b71de7e3-2fe8-4b58-f591-ade8eaa33f1e"
   },
   "outputs": [
    {
     "data": {
      "text/plain": [
       "0    26.1415\n",
       "2    16.2155\n",
       "3    23.2880\n",
       "4    30.2085\n",
       "6    20.6520\n",
       "Name: gross income, dtype: float64"
      ]
     },
     "execution_count": 30,
     "metadata": {},
     "output_type": "execute_result"
    }
   ],
   "source": [
    "gross_income_branch_a = df['gross income'].loc[df['Branch'] == 'A']\n",
    "gross_income_branch_a.head()"
   ]
  },
  {
   "cell_type": "code",
   "execution_count": 31,
   "metadata": {
    "colab": {
     "base_uri": "https://localhost:8080/",
     "height": 204
    },
    "executionInfo": {
     "elapsed": 386,
     "status": "ok",
     "timestamp": 1636216762755,
     "user": {
      "displayName": "MH M",
      "photoUrl": "https://lh3.googleusercontent.com/a/default-user=s64",
      "userId": "08161873914285380179"
     },
     "user_tz": -420
    },
    "id": "QMThkWSVGqZ0",
    "outputId": "bf97df88-e846-45a3-8a67-e6ddc5f9654e"
   },
   "outputs": [
    {
     "data": {
      "text/html": [
       "<div>\n",
       "<style scoped>\n",
       "    .dataframe tbody tr th:only-of-type {\n",
       "        vertical-align: middle;\n",
       "    }\n",
       "\n",
       "    .dataframe tbody tr th {\n",
       "        vertical-align: top;\n",
       "    }\n",
       "\n",
       "    .dataframe thead th {\n",
       "        text-align: right;\n",
       "    }\n",
       "</style>\n",
       "<table border=\"1\" class=\"dataframe\">\n",
       "  <thead>\n",
       "    <tr style=\"text-align: right;\">\n",
       "      <th></th>\n",
       "      <th>Date</th>\n",
       "      <th>Branch</th>\n",
       "      <th>gross income</th>\n",
       "    </tr>\n",
       "  </thead>\n",
       "  <tbody>\n",
       "    <tr>\n",
       "      <th>0</th>\n",
       "      <td>2019-01-01</td>\n",
       "      <td>A</td>\n",
       "      <td>112.9200</td>\n",
       "    </tr>\n",
       "    <tr>\n",
       "      <th>1</th>\n",
       "      <td>2019-01-01</td>\n",
       "      <td>B</td>\n",
       "      <td>73.1760</td>\n",
       "    </tr>\n",
       "    <tr>\n",
       "      <th>2</th>\n",
       "      <td>2019-01-01</td>\n",
       "      <td>C</td>\n",
       "      <td>39.8650</td>\n",
       "    </tr>\n",
       "    <tr>\n",
       "      <th>3</th>\n",
       "      <td>2019-01-02</td>\n",
       "      <td>A</td>\n",
       "      <td>14.6215</td>\n",
       "    </tr>\n",
       "    <tr>\n",
       "      <th>4</th>\n",
       "      <td>2019-01-02</td>\n",
       "      <td>B</td>\n",
       "      <td>55.3715</td>\n",
       "    </tr>\n",
       "  </tbody>\n",
       "</table>\n",
       "</div>"
      ],
      "text/plain": [
       "        Date Branch  gross income\n",
       "0 2019-01-01      A      112.9200\n",
       "1 2019-01-01      B       73.1760\n",
       "2 2019-01-01      C       39.8650\n",
       "3 2019-01-02      A       14.6215\n",
       "4 2019-01-02      B       55.3715"
      ]
     },
     "execution_count": 31,
     "metadata": {},
     "output_type": "execute_result"
    }
   ],
   "source": [
    "# set the data\n",
    "gi_date = df.groupby(['Date', 'Branch']).agg({'gross income': sum}).reset_index()\n",
    "gi_date.head()"
   ]
  },
  {
   "cell_type": "code",
   "execution_count": 32,
   "metadata": {
    "colab": {
     "base_uri": "https://localhost:8080/",
     "height": 204
    },
    "executionInfo": {
     "elapsed": 352,
     "status": "ok",
     "timestamp": 1636217173248,
     "user": {
      "displayName": "MH M",
      "photoUrl": "https://lh3.googleusercontent.com/a/default-user=s64",
      "userId": "08161873914285380179"
     },
     "user_tz": -420
    },
    "id": "v8C0jIBOE2P4",
    "outputId": "354bb426-cebc-4d8a-cc84-26224403bcc1"
   },
   "outputs": [
    {
     "data": {
      "text/html": [
       "<div>\n",
       "<style scoped>\n",
       "    .dataframe tbody tr th:only-of-type {\n",
       "        vertical-align: middle;\n",
       "    }\n",
       "\n",
       "    .dataframe tbody tr th {\n",
       "        vertical-align: top;\n",
       "    }\n",
       "\n",
       "    .dataframe thead th {\n",
       "        text-align: right;\n",
       "    }\n",
       "</style>\n",
       "<table border=\"1\" class=\"dataframe\">\n",
       "  <thead>\n",
       "    <tr style=\"text-align: right;\">\n",
       "      <th></th>\n",
       "      <th>Date</th>\n",
       "      <th>Branch</th>\n",
       "      <th>gross income</th>\n",
       "      <th>month</th>\n",
       "    </tr>\n",
       "  </thead>\n",
       "  <tbody>\n",
       "    <tr>\n",
       "      <th>258</th>\n",
       "      <td>2019-03-29</td>\n",
       "      <td>B</td>\n",
       "      <td>98.0920</td>\n",
       "      <td>3</td>\n",
       "    </tr>\n",
       "    <tr>\n",
       "      <th>259</th>\n",
       "      <td>2019-03-29</td>\n",
       "      <td>C</td>\n",
       "      <td>46.9380</td>\n",
       "      <td>3</td>\n",
       "    </tr>\n",
       "    <tr>\n",
       "      <th>260</th>\n",
       "      <td>2019-03-30</td>\n",
       "      <td>A</td>\n",
       "      <td>62.8865</td>\n",
       "      <td>3</td>\n",
       "    </tr>\n",
       "    <tr>\n",
       "      <th>261</th>\n",
       "      <td>2019-03-30</td>\n",
       "      <td>B</td>\n",
       "      <td>82.1170</td>\n",
       "      <td>3</td>\n",
       "    </tr>\n",
       "    <tr>\n",
       "      <th>262</th>\n",
       "      <td>2019-03-30</td>\n",
       "      <td>C</td>\n",
       "      <td>68.6660</td>\n",
       "      <td>3</td>\n",
       "    </tr>\n",
       "  </tbody>\n",
       "</table>\n",
       "</div>"
      ],
      "text/plain": [
       "          Date Branch  gross income  month\n",
       "258 2019-03-29      B       98.0920      3\n",
       "259 2019-03-29      C       46.9380      3\n",
       "260 2019-03-30      A       62.8865      3\n",
       "261 2019-03-30      B       82.1170      3\n",
       "262 2019-03-30      C       68.6660      3"
      ]
     },
     "execution_count": 32,
     "metadata": {},
     "output_type": "execute_result"
    }
   ],
   "source": [
    "# make the month column\n",
    "gi_date['month'] = pd.DatetimeIndex(gi_date['Date']).month\n",
    "gi_date.tail()"
   ]
  },
  {
   "cell_type": "code",
   "execution_count": 33,
   "metadata": {
    "colab": {
     "base_uri": "https://localhost:8080/",
     "height": 388
    },
    "executionInfo": {
     "elapsed": 660,
     "status": "ok",
     "timestamp": 1636217545304,
     "user": {
      "displayName": "MH M",
      "photoUrl": "https://lh3.googleusercontent.com/a/default-user=s64",
      "userId": "08161873914285380179"
     },
     "user_tz": -420
    },
    "id": "2VMon4vbE2S3",
    "outputId": "84ecbbaf-afd8-4279-99bb-05b8146cce5a"
   },
   "outputs": [
    {
     "data": {
      "image/png": "[encoded data removed]",
      "text/plain": [
       "<Figure size 720x432 with 1 Axes>"
      ]
     },
     "metadata": {
      "needs_background": "light"
     },
     "output_type": "display_data"
    }
   ],
   "source": [
    "# Gross income Jan-March in Each Store\n",
    "\n",
    "# plot with seaborn and use the hue parameter\n",
    "\n",
    "plt.figure(figsize=(10, 6))\n",
    "sns.lineplot(x='month', y='gross income', data=gi_date, hue='Branch')\n",
    "plt.legend(bbox_to_anchor=(1.05, 1), loc='upper left')\n",
    "\n",
    "x_ticks = np.arange(1, 4, 1)\n",
    "plt.xticks(x_ticks)\n",
    "\n",
    "plt.show()"
   ]
  },
  {
   "cell_type": "code",
   "execution_count": 34,
   "metadata": {},
   "outputs": [
    {
     "data": {
      "text/html": [
       "<div>\n",
       "<style scoped>\n",
       "    .dataframe tbody tr th:only-of-type {\n",
       "        vertical-align: middle;\n",
       "    }\n",
       "\n",
       "    .dataframe tbody tr th {\n",
       "        vertical-align: top;\n",
       "    }\n",
       "\n",
       "    .dataframe thead th {\n",
       "        text-align: right;\n",
       "    }\n",
       "</style>\n",
       "<table border=\"1\" class=\"dataframe\">\n",
       "  <thead>\n",
       "    <tr style=\"text-align: right;\">\n",
       "      <th></th>\n",
       "      <th>month</th>\n",
       "      <th>gross income</th>\n",
       "    </tr>\n",
       "  </thead>\n",
       "  <tbody>\n",
       "    <tr>\n",
       "      <th>0</th>\n",
       "      <td>1</td>\n",
       "      <td>112.9200</td>\n",
       "    </tr>\n",
       "    <tr>\n",
       "      <th>3</th>\n",
       "      <td>1</td>\n",
       "      <td>14.6215</td>\n",
       "    </tr>\n",
       "    <tr>\n",
       "      <th>6</th>\n",
       "      <td>1</td>\n",
       "      <td>44.6385</td>\n",
       "    </tr>\n",
       "    <tr>\n",
       "      <th>9</th>\n",
       "      <td>1</td>\n",
       "      <td>23.0125</td>\n",
       "    </tr>\n",
       "    <tr>\n",
       "      <th>12</th>\n",
       "      <td>1</td>\n",
       "      <td>96.4050</td>\n",
       "    </tr>\n",
       "  </tbody>\n",
       "</table>\n",
       "</div>"
      ],
      "text/plain": [
       "    month  gross income\n",
       "0       1      112.9200\n",
       "3       1       14.6215\n",
       "6       1       44.6385\n",
       "9       1       23.0125\n",
       "12      1       96.4050"
      ]
     },
     "execution_count": 34,
     "metadata": {},
     "output_type": "execute_result"
    }
   ],
   "source": [
    "nana = gi_date[gi_date['Branch'] == 'A'][['month', 'gross income']]\n",
    "nana.head()"
   ]
  },
  {
   "cell_type": "code",
   "execution_count": 35,
   "metadata": {},
   "outputs": [
    {
     "data": {
      "image/png": "[encoded data removed]",
      "text/plain": [
       "<Figure size 720x432 with 1 Axes>"
      ]
     },
     "metadata": {
      "needs_background": "light"
     },
     "output_type": "display_data"
    }
   ],
   "source": [
    "# plot with seaborn and use the hue parameter\n",
    "# we want to make example using selection class, \n",
    "# For example we only want to have A branch\n",
    "\n",
    "selection_class = ['A', 'B']\n",
    "plt.figure(figsize=(10, 6))\n",
    "\n",
    "sns.lineplot(x='month', y='gross income', data=nana, color='#fc58f2')\n",
    "\n",
    "x_ticks = np.arange(1, 4, 1)\n",
    "plt.xticks(x_ticks)\n",
    "plt.show()"
   ]
  },
  {
   "cell_type": "markdown",
   "metadata": {
    "id": "5Lq8h1hTXCLp"
   },
   "source": [
    "## Branch Rating"
   ]
  },
  {
   "cell_type": "code",
   "execution_count": 36,
   "metadata": {
    "colab": {
     "base_uri": "https://localhost:8080/",
     "height": 173
    },
    "executionInfo": {
     "elapsed": 412,
     "status": "ok",
     "timestamp": 1636220856980,
     "user": {
      "displayName": "MH M",
      "photoUrl": "https://lh3.googleusercontent.com/a/default-user=s64",
      "userId": "08161873914285380179"
     },
     "user_tz": -420
    },
    "id": "DBCFJzxC8w1u",
    "outputId": "81d9559a-76e2-40f2-f3d9-8b7d9f8ff01e"
   },
   "outputs": [
    {
     "data": {
      "text/html": [
       "<div>\n",
       "<style scoped>\n",
       "    .dataframe tbody tr th:only-of-type {\n",
       "        vertical-align: middle;\n",
       "    }\n",
       "\n",
       "    .dataframe tbody tr th {\n",
       "        vertical-align: top;\n",
       "    }\n",
       "\n",
       "    .dataframe thead th {\n",
       "        text-align: right;\n",
       "    }\n",
       "</style>\n",
       "<table border=\"1\" class=\"dataframe\">\n",
       "  <thead>\n",
       "    <tr style=\"text-align: right;\">\n",
       "      <th></th>\n",
       "      <th>Rating</th>\n",
       "    </tr>\n",
       "    <tr>\n",
       "      <th>Branch</th>\n",
       "      <th></th>\n",
       "    </tr>\n",
       "  </thead>\n",
       "  <tbody>\n",
       "    <tr>\n",
       "      <th>A</th>\n",
       "      <td>7.027059</td>\n",
       "    </tr>\n",
       "    <tr>\n",
       "      <th>B</th>\n",
       "      <td>6.818072</td>\n",
       "    </tr>\n",
       "    <tr>\n",
       "      <th>C</th>\n",
       "      <td>7.072866</td>\n",
       "    </tr>\n",
       "  </tbody>\n",
       "</table>\n",
       "</div>"
      ],
      "text/plain": [
       "          Rating\n",
       "Branch          \n",
       "A       7.027059\n",
       "B       6.818072\n",
       "C       7.072866"
      ]
     },
     "execution_count": 36,
     "metadata": {},
     "output_type": "execute_result"
    }
   ],
   "source": [
    "# Rata-rata gross margin percentage dan rating di tiap branch\n",
    "rating = df.groupby(['Branch'])[['Rating']].mean()\n",
    "rating "
   ]
  },
  {
   "cell_type": "markdown",
   "metadata": {},
   "source": [
    "## Average Gross Margin Percentage and Rating in each Branch"
   ]
  },
  {
   "cell_type": "code",
   "execution_count": 62,
   "metadata": {},
   "outputs": [
    {
     "data": {
      "text/html": [
       "<div>\n",
       "<style scoped>\n",
       "    .dataframe tbody tr th:only-of-type {\n",
       "        vertical-align: middle;\n",
       "    }\n",
       "\n",
       "    .dataframe tbody tr th {\n",
       "        vertical-align: top;\n",
       "    }\n",
       "\n",
       "    .dataframe thead th {\n",
       "        text-align: right;\n",
       "    }\n",
       "</style>\n",
       "<table border=\"1\" class=\"dataframe\">\n",
       "  <thead>\n",
       "    <tr style=\"text-align: right;\">\n",
       "      <th></th>\n",
       "      <th>Branch</th>\n",
       "      <th>gross margin percentage</th>\n",
       "      <th>Rating</th>\n",
       "    </tr>\n",
       "  </thead>\n",
       "  <tbody>\n",
       "    <tr>\n",
       "      <th>0</th>\n",
       "      <td>A</td>\n",
       "      <td>4.761905</td>\n",
       "      <td>7.027059</td>\n",
       "    </tr>\n",
       "    <tr>\n",
       "      <th>1</th>\n",
       "      <td>B</td>\n",
       "      <td>4.761905</td>\n",
       "      <td>6.818072</td>\n",
       "    </tr>\n",
       "    <tr>\n",
       "      <th>2</th>\n",
       "      <td>C</td>\n",
       "      <td>4.761905</td>\n",
       "      <td>7.072866</td>\n",
       "    </tr>\n",
       "  </tbody>\n",
       "</table>\n",
       "</div>"
      ],
      "text/plain": [
       "  Branch  gross margin percentage    Rating\n",
       "0      A                 4.761905  7.027059\n",
       "1      B                 4.761905  6.818072\n",
       "2      C                 4.761905  7.072866"
      ]
     },
     "execution_count": 62,
     "metadata": {},
     "output_type": "execute_result"
    }
   ],
   "source": [
    "# Data for mean of gross margin percentage in each store\n",
    "gmp_mean_rating = df.groupby(['Branch']).agg({'gross margin percentage': 'mean', 'Rating': 'mean'}).reset_index()\n",
    "\n",
    "gmp_mean_rating"
   ]
  },
  {
   "cell_type": "code",
   "execution_count": 70,
   "metadata": {},
   "outputs": [
    {
     "data": {
      "image/png": "[encoded data removed]",
      "text/plain": [
       "<Figure size 720x432 with 1 Axes>"
      ]
     },
     "metadata": {
      "needs_background": "light"
     },
     "output_type": "display_data"
    }
   ],
   "source": [
    "# Average of Gross Margin Percentage in each Branch\n",
    "plt.figure(figsize=(10, 6))\n",
    "sns.color_palette(\"hls\", 8)\n",
    "\n",
    "sns.barplot(x='Branch', y='gross margin percentage', data=gmp_mean_rating, palette=['#bc8fff', '#fff88f', '#52fa74'])\n",
    "\n",
    "plt.title('Average of Gross Margin Percentage in each Branch')\n",
    "plt.show()\n"
   ]
  },
  {
   "cell_type": "code",
   "execution_count": 71,
   "metadata": {},
   "outputs": [
    {
     "data": {
      "image/png": "[encoded data removed]",
      "text/plain": [
       "<Figure size 720x432 with 1 Axes>"
      ]
     },
     "metadata": {
      "needs_background": "light"
     },
     "output_type": "display_data"
    }
   ],
   "source": [
    "# Average of Rating in each Branch\n",
    "plt.figure(figsize=(10, 6))\n",
    "sns.color_palette(\"hls\", 8)\n",
    "\n",
    "sns.barplot(x='Branch', y='Rating', data=gmp_mean_rating, palette=['#bc8fff', '#fff88f', '#52fa74'])\n",
    "\n",
    "plt.title('Average of Rating in each Branch')\n",
    "plt.show()\n"
   ]
  },
  {
   "cell_type": "markdown",
   "metadata": {
    "id": "6HSLhIuvPsCL"
   },
   "source": [
    "# Buyer Behaviour Characteristics"
   ]
  },
  {
   "cell_type": "markdown",
   "metadata": {
    "id": "ED3_744xIsBT"
   },
   "source": [
    "## How many product they buy by gender"
   ]
  },
  {
   "cell_type": "code",
   "execution_count": 37,
   "metadata": {
    "colab": {
     "base_uri": "https://localhost:8080/",
     "height": 452
    },
    "executionInfo": {
     "elapsed": 382,
     "status": "ok",
     "timestamp": 1636217723096,
     "user": {
      "displayName": "MH M",
      "photoUrl": "https://lh3.googleusercontent.com/a/default-user=s64",
      "userId": "08161873914285380179"
     },
     "user_tz": -420
    },
    "id": "K_LVtnKU8w10",
    "outputId": "6ff6e02c-c35f-4331-ca1b-800a93cf912c"
   },
   "outputs": [
    {
     "data": {
      "text/html": [
       "<div>\n",
       "<style scoped>\n",
       "    .dataframe tbody tr th:only-of-type {\n",
       "        vertical-align: middle;\n",
       "    }\n",
       "\n",
       "    .dataframe tbody tr th {\n",
       "        vertical-align: top;\n",
       "    }\n",
       "\n",
       "    .dataframe thead th {\n",
       "        text-align: right;\n",
       "    }\n",
       "</style>\n",
       "<table border=\"1\" class=\"dataframe\">\n",
       "  <thead>\n",
       "    <tr style=\"text-align: right;\">\n",
       "      <th></th>\n",
       "      <th></th>\n",
       "      <th>Quantity</th>\n",
       "    </tr>\n",
       "    <tr>\n",
       "      <th>Gender</th>\n",
       "      <th>Product line</th>\n",
       "      <th></th>\n",
       "    </tr>\n",
       "  </thead>\n",
       "  <tbody>\n",
       "    <tr>\n",
       "      <th rowspan=\"6\" valign=\"top\">Female</th>\n",
       "      <th>Electronic accessories</th>\n",
       "      <td>488</td>\n",
       "    </tr>\n",
       "    <tr>\n",
       "      <th>Fashion accessories</th>\n",
       "      <td>530</td>\n",
       "    </tr>\n",
       "    <tr>\n",
       "      <th>Food and beverages</th>\n",
       "      <td>514</td>\n",
       "    </tr>\n",
       "    <tr>\n",
       "      <th>Health and beauty</th>\n",
       "      <td>343</td>\n",
       "    </tr>\n",
       "    <tr>\n",
       "      <th>Home and lifestyle</th>\n",
       "      <td>498</td>\n",
       "    </tr>\n",
       "    <tr>\n",
       "      <th>Sports and travel</th>\n",
       "      <td>496</td>\n",
       "    </tr>\n",
       "    <tr>\n",
       "      <th rowspan=\"6\" valign=\"top\">Male</th>\n",
       "      <th>Electronic accessories</th>\n",
       "      <td>483</td>\n",
       "    </tr>\n",
       "    <tr>\n",
       "      <th>Fashion accessories</th>\n",
       "      <td>372</td>\n",
       "    </tr>\n",
       "    <tr>\n",
       "      <th>Food and beverages</th>\n",
       "      <td>438</td>\n",
       "    </tr>\n",
       "    <tr>\n",
       "      <th>Health and beauty</th>\n",
       "      <td>511</td>\n",
       "    </tr>\n",
       "    <tr>\n",
       "      <th>Home and lifestyle</th>\n",
       "      <td>413</td>\n",
       "    </tr>\n",
       "    <tr>\n",
       "      <th>Sports and travel</th>\n",
       "      <td>424</td>\n",
       "    </tr>\n",
       "  </tbody>\n",
       "</table>\n",
       "</div>"
      ],
      "text/plain": [
       "                               Quantity\n",
       "Gender Product line                    \n",
       "Female Electronic accessories       488\n",
       "       Fashion accessories          530\n",
       "       Food and beverages           514\n",
       "       Health and beauty            343\n",
       "       Home and lifestyle           498\n",
       "       Sports and travel            496\n",
       "Male   Electronic accessories       483\n",
       "       Fashion accessories          372\n",
       "       Food and beverages           438\n",
       "       Health and beauty            511\n",
       "       Home and lifestyle           413\n",
       "       Sports and travel            424"
      ]
     },
     "execution_count": 37,
     "metadata": {},
     "output_type": "execute_result"
    }
   ],
   "source": [
    "# total quantity pembelian di tiap gender per roduct line\n",
    "data2 = df.groupby(['Gender', 'Product line'])[['Quantity']].sum()\n",
    "data2 \n",
    "    "
   ]
  },
  {
   "cell_type": "code",
   "execution_count": 38,
   "metadata": {
    "colab": {
     "base_uri": "https://localhost:8080/"
    },
    "executionInfo": {
     "elapsed": 383,
     "status": "ok",
     "timestamp": 1636218019927,
     "user": {
      "displayName": "MH M",
      "photoUrl": "https://lh3.googleusercontent.com/a/default-user=s64",
      "userId": "08161873914285380179"
     },
     "user_tz": -420
    },
    "id": "otaxCQD_MTWn",
    "outputId": "f9c9f07e-f223-4a0c-8246-0cd4bfeef731"
   },
   "outputs": [
    {
     "data": {
      "text/plain": [
       "(6,)"
      ]
     },
     "execution_count": 38,
     "metadata": {},
     "output_type": "execute_result"
    }
   ],
   "source": [
    "# convert 2d array to 1d array, Male\n",
    "male_qty = data2.loc['Male'].values\n",
    "\n",
    "# male_qty.shape #2d array\n",
    "male_qty_1d = male_qty.flatten()\n",
    "male_qty_1d.shape"
   ]
  },
  {
   "cell_type": "code",
   "execution_count": 39,
   "metadata": {},
   "outputs": [
    {
     "data": {
      "text/plain": [
       "(6,)"
      ]
     },
     "execution_count": 39,
     "metadata": {},
     "output_type": "execute_result"
    }
   ],
   "source": [
    "# convert 2d array to 1d array, Female\n",
    "female_qty = data2.loc['Female'].values\n",
    "\n",
    "# female_qty.shape #2d array\n",
    "female_qty_1d = female_qty.flatten()\n",
    "female_qty_1d.shape"
   ]
  },
  {
   "cell_type": "code",
   "execution_count": 88,
   "metadata": {
    "colab": {
     "base_uri": "https://localhost:8080/",
     "height": 765
    },
    "executionInfo": {
     "elapsed": 705,
     "status": "ok",
     "timestamp": 1636218813018,
     "user": {
      "displayName": "MH M",
      "photoUrl": "https://lh3.googleusercontent.com/a/default-user=s64",
      "userId": "08161873914285380179"
     },
     "user_tz": -420
    },
    "id": "xI3JoU5dLUoz",
    "outputId": "c374993f-afdb-445d-ff1f-5964ad7aa4e3"
   },
   "outputs": [
    {
     "data": {
      "text/plain": [
       "<Figure size 432x288 with 0 Axes>"
      ]
     },
     "metadata": {},
     "output_type": "display_data"
    },
    {
     "data": {
      "image/png": "[encoded data removed]",
      "text/plain": [
       "<Figure size 720x432 with 1 Axes>"
      ]
     },
     "metadata": {},
     "output_type": "display_data"
    },
    {
     "data": {
      "text/plain": [
       "<Figure size 432x288 with 0 Axes>"
      ]
     },
     "metadata": {},
     "output_type": "display_data"
    },
    {
     "data": {
      "image/png": "[encoded data removed]",
      "text/plain": [
       "<Figure size 720x432 with 1 Axes>"
      ]
     },
     "metadata": {},
     "output_type": "display_data"
    }
   ],
   "source": [
    "#Using matplotlib\n",
    "plt.clf()\n",
    "# pie, ax = plt.subplots(figsize=[10,6])\n",
    "\n",
    "# create a figure with two subplots\n",
    "# fig, (ax1, ax2) = plt.subplots(1, 2)\n",
    "# fig.tight_layout() \n",
    "\n",
    "colors = sns.color_palette('Set2')[0:7]\n",
    "\n",
    "labels = data2.loc['Male'].index\n",
    "\n",
    "# Male\n",
    "plt.figure(0)\n",
    "plt.figure(figsize=(10, 6))\n",
    "plt.pie(x=male_qty_1d, \n",
    "        autopct=\"%.1f%%\", \n",
    "        explode=[0.05]*6, \n",
    "        labels=labels, \n",
    "        colors = colors,\n",
    "        pctdistance=0.5)\n",
    "plt.title(\"Type of Product that Male Buy\", fontsize=14)\n",
    "\n",
    "# Female\n",
    "plt.figure(1)\n",
    "plt.figure(figsize=(10, 6))\n",
    "plt.pie(x=female_qty_1d, \n",
    "        autopct=\"%.1f%%\", \n",
    "        explode=[0.05]*6, \n",
    "        colors = colors,\n",
    "        labels=labels, \n",
    "        pctdistance=0.5)\n",
    "plt.title(\"Type of Product that Female Buy\", fontsize=14)\n",
    "\n",
    "\n",
    "plt.show() #show all figures\n"
   ]
  },
  {
   "cell_type": "markdown",
   "metadata": {
    "id": "HJVsIVVLLU9w"
   },
   "source": [
    "## Who spend the most money? male or female"
   ]
  },
  {
   "cell_type": "code",
   "execution_count": 41,
   "metadata": {
    "colab": {
     "base_uri": "https://localhost:8080/",
     "height": 142
    },
    "executionInfo": {
     "elapsed": 417,
     "status": "ok",
     "timestamp": 1636219063211,
     "user": {
      "displayName": "MH M",
      "photoUrl": "https://lh3.googleusercontent.com/a/default-user=s64",
      "userId": "08161873914285380179"
     },
     "user_tz": -420
    },
    "id": "BvnFG5VGLUvS",
    "outputId": "d3e6a5b2-e136-43ed-a49b-b04e09bcb42a"
   },
   "outputs": [
    {
     "data": {
      "text/html": [
       "<div>\n",
       "<style scoped>\n",
       "    .dataframe tbody tr th:only-of-type {\n",
       "        vertical-align: middle;\n",
       "    }\n",
       "\n",
       "    .dataframe tbody tr th {\n",
       "        vertical-align: top;\n",
       "    }\n",
       "\n",
       "    .dataframe thead th {\n",
       "        text-align: right;\n",
       "    }\n",
       "</style>\n",
       "<table border=\"1\" class=\"dataframe\">\n",
       "  <thead>\n",
       "    <tr style=\"text-align: right;\">\n",
       "      <th></th>\n",
       "      <th>Total</th>\n",
       "    </tr>\n",
       "    <tr>\n",
       "      <th>Gender</th>\n",
       "      <th></th>\n",
       "    </tr>\n",
       "  </thead>\n",
       "  <tbody>\n",
       "    <tr>\n",
       "      <th>Female</th>\n",
       "      <td>167882.925</td>\n",
       "    </tr>\n",
       "    <tr>\n",
       "      <th>Male</th>\n",
       "      <td>155083.824</td>\n",
       "    </tr>\n",
       "  </tbody>\n",
       "</table>\n",
       "</div>"
      ],
      "text/plain": [
       "             Total\n",
       "Gender            \n",
       "Female  167882.925\n",
       "Male    155083.824"
      ]
     },
     "execution_count": 41,
     "metadata": {},
     "output_type": "execute_result"
    }
   ],
   "source": [
    "# total harga pembelian di tiap gender per roduct line\n",
    "data3 = df.groupby(['Gender'])[['Total']].sum()\n",
    "data3 "
   ]
  },
  {
   "cell_type": "code",
   "execution_count": 42,
   "metadata": {},
   "outputs": [
    {
     "data": {
      "text/plain": [
       "(2,)"
      ]
     },
     "execution_count": 42,
     "metadata": {},
     "output_type": "execute_result"
    }
   ],
   "source": [
    "# convert 2d array to 1d array\n",
    "gender_total = data3.values\n",
    "\n",
    "# gender_total.shape #2d array\n",
    "\n",
    "gender_total_1d = gender_total.flatten()\n",
    "gender_total_1d.shape"
   ]
  },
  {
   "cell_type": "code",
   "execution_count": 43,
   "metadata": {
    "colab": {
     "base_uri": "https://localhost:8080/",
     "height": 391
    },
    "executionInfo": {
     "elapsed": 14,
     "status": "ok",
     "timestamp": 1636219258735,
     "user": {
      "displayName": "MH M",
      "photoUrl": "https://lh3.googleusercontent.com/a/default-user=s64",
      "userId": "08161873914285380179"
     },
     "user_tz": -420
    },
    "id": "wUdtdVidP_HW",
    "outputId": "d3e50643-6895-49ec-8f4c-500ba84e85c5"
   },
   "outputs": [
    {
     "data": {
      "text/plain": [
       "<Figure size 432x288 with 0 Axes>"
      ]
     },
     "metadata": {},
     "output_type": "display_data"
    },
    {
     "data": {
      "image/png": "[encoded data removed]",
      "text/plain": [
       "<Figure size 720x432 with 1 Axes>"
      ]
     },
     "metadata": {},
     "output_type": "display_data"
    }
   ],
   "source": [
    "#Using matplotlib\n",
    "plt.clf()\n",
    "pie, ax = plt.subplots(figsize=[10,6])\n",
    "\n",
    "colors = ['tab:orange', 'tab:cyan']\n",
    "labels = data3.index\n",
    "\n",
    "plt.pie(x=gender_total_1d, \n",
    "        autopct=\"%.1f%%\", \n",
    "        explode=[0.05]*2, \n",
    "        labels=labels,\n",
    "        colors = colors,\n",
    "        pctdistance=0.5)\n",
    "\n",
    "plt.title(\"Spending Money by Gender\", fontsize=14);"
   ]
  },
  {
   "cell_type": "markdown",
   "metadata": {
    "id": "NLlI1ObsRUNv"
   },
   "source": [
    "## When the buyer most buy in the supermarket?"
   ]
  },
  {
   "cell_type": "code",
   "execution_count": 44,
   "metadata": {
    "colab": {
     "base_uri": "https://localhost:8080/",
     "height": 204
    },
    "executionInfo": {
     "elapsed": 366,
     "status": "ok",
     "timestamp": 1636219383034,
     "user": {
      "displayName": "MH M",
      "photoUrl": "https://lh3.googleusercontent.com/a/default-user=s64",
      "userId": "08161873914285380179"
     },
     "user_tz": -420
    },
    "id": "FqHPO51O8w13",
    "outputId": "d563c7db-fd83-490d-e1ce-12826e43dffe"
   },
   "outputs": [
    {
     "data": {
      "text/html": [
       "<div>\n",
       "<style scoped>\n",
       "    .dataframe tbody tr th:only-of-type {\n",
       "        vertical-align: middle;\n",
       "    }\n",
       "\n",
       "    .dataframe tbody tr th {\n",
       "        vertical-align: top;\n",
       "    }\n",
       "\n",
       "    .dataframe thead th {\n",
       "        text-align: right;\n",
       "    }\n",
       "</style>\n",
       "<table border=\"1\" class=\"dataframe\">\n",
       "  <thead>\n",
       "    <tr style=\"text-align: right;\">\n",
       "      <th></th>\n",
       "      <th>Time</th>\n",
       "    </tr>\n",
       "  </thead>\n",
       "  <tbody>\n",
       "    <tr>\n",
       "      <th>0</th>\n",
       "      <td>13</td>\n",
       "    </tr>\n",
       "    <tr>\n",
       "      <th>1</th>\n",
       "      <td>10</td>\n",
       "    </tr>\n",
       "    <tr>\n",
       "      <th>2</th>\n",
       "      <td>13</td>\n",
       "    </tr>\n",
       "    <tr>\n",
       "      <th>3</th>\n",
       "      <td>20</td>\n",
       "    </tr>\n",
       "    <tr>\n",
       "      <th>4</th>\n",
       "      <td>10</td>\n",
       "    </tr>\n",
       "  </tbody>\n",
       "</table>\n",
       "</div>"
      ],
      "text/plain": [
       "  Time\n",
       "0   13\n",
       "1   10\n",
       "2   13\n",
       "3   20\n",
       "4   10"
      ]
     },
     "execution_count": 44,
     "metadata": {},
     "output_type": "execute_result"
    }
   ],
   "source": [
    "# Purchase time in hour\n",
    "hour = df['Time'].astype(str).str[:2]\n",
    "id = df['Invoice ID']\n",
    "hours = pd.DataFrame(hour)\n",
    "hours.head()"
   ]
  },
  {
   "cell_type": "code",
   "execution_count": 45,
   "metadata": {
    "colab": {
     "base_uri": "https://localhost:8080/",
     "height": 204
    },
    "executionInfo": {
     "elapsed": 353,
     "status": "ok",
     "timestamp": 1636219397339,
     "user": {
      "displayName": "MH M",
      "photoUrl": "https://lh3.googleusercontent.com/a/default-user=s64",
      "userId": "08161873914285380179"
     },
     "user_tz": -420
    },
    "id": "bCmjrvm88w16",
    "outputId": "c7f11b01-5077-4ce5-ed8a-70833c239707"
   },
   "outputs": [
    {
     "data": {
      "text/html": [
       "<div>\n",
       "<style scoped>\n",
       "    .dataframe tbody tr th:only-of-type {\n",
       "        vertical-align: middle;\n",
       "    }\n",
       "\n",
       "    .dataframe tbody tr th {\n",
       "        vertical-align: top;\n",
       "    }\n",
       "\n",
       "    .dataframe thead th {\n",
       "        text-align: right;\n",
       "    }\n",
       "</style>\n",
       "<table border=\"1\" class=\"dataframe\">\n",
       "  <thead>\n",
       "    <tr style=\"text-align: right;\">\n",
       "      <th></th>\n",
       "      <th>Invoice ID</th>\n",
       "      <th>Gender</th>\n",
       "    </tr>\n",
       "  </thead>\n",
       "  <tbody>\n",
       "    <tr>\n",
       "      <th>0</th>\n",
       "      <td>750-67-8428</td>\n",
       "      <td>Female</td>\n",
       "    </tr>\n",
       "    <tr>\n",
       "      <th>1</th>\n",
       "      <td>226-31-3081</td>\n",
       "      <td>Female</td>\n",
       "    </tr>\n",
       "    <tr>\n",
       "      <th>2</th>\n",
       "      <td>631-41-3108</td>\n",
       "      <td>Male</td>\n",
       "    </tr>\n",
       "    <tr>\n",
       "      <th>3</th>\n",
       "      <td>123-19-1176</td>\n",
       "      <td>Male</td>\n",
       "    </tr>\n",
       "    <tr>\n",
       "      <th>4</th>\n",
       "      <td>373-73-7910</td>\n",
       "      <td>Male</td>\n",
       "    </tr>\n",
       "  </tbody>\n",
       "</table>\n",
       "</div>"
      ],
      "text/plain": [
       "    Invoice ID  Gender\n",
       "0  750-67-8428  Female\n",
       "1  226-31-3081  Female\n",
       "2  631-41-3108    Male\n",
       "3  123-19-1176    Male\n",
       "4  373-73-7910    Male"
      ]
     },
     "execution_count": 45,
     "metadata": {},
     "output_type": "execute_result"
    }
   ],
   "source": [
    "gender = df[['Invoice ID', 'Gender']]\n",
    "gender.head()"
   ]
  },
  {
   "cell_type": "code",
   "execution_count": 46,
   "metadata": {
    "colab": {
     "base_uri": "https://localhost:8080/"
    },
    "executionInfo": {
     "elapsed": 363,
     "status": "ok",
     "timestamp": 1636220468005,
     "user": {
      "displayName": "MH M",
      "photoUrl": "https://lh3.googleusercontent.com/a/default-user=s64",
      "userId": "08161873914285380179"
     },
     "user_tz": -420
    },
    "id": "E65amLmr8w19",
    "outputId": "db96897e-5329-43ed-cd74-bececb6d2d72"
   },
   "outputs": [
    {
     "name": "stdout",
     "output_type": "stream",
     "text": [
      "<class 'pandas.core.frame.DataFrame'>\n",
      "RangeIndex: 1000 entries, 0 to 999\n",
      "Data columns (total 3 columns):\n",
      " #   Column      Non-Null Count  Dtype \n",
      "---  ------      --------------  ----- \n",
      " 0   Invoice ID  1000 non-null   object\n",
      " 1   Gender      1000 non-null   object\n",
      " 2   Time        1000 non-null   object\n",
      "dtypes: object(3)\n",
      "memory usage: 23.6+ KB\n"
     ]
    }
   ],
   "source": [
    "data_gender_time = pd.concat([gender, hours], axis=1)\n",
    "\n",
    "data_gender_time.head()\n",
    "\n",
    "data_gender_time.info()"
   ]
  },
  {
   "cell_type": "code",
   "execution_count": 47,
   "metadata": {
    "colab": {
     "base_uri": "https://localhost:8080/"
    },
    "executionInfo": {
     "elapsed": 589,
     "status": "ok",
     "timestamp": 1636220629556,
     "user": {
      "displayName": "MH M",
      "photoUrl": "https://lh3.googleusercontent.com/a/default-user=s64",
      "userId": "08161873914285380179"
     },
     "user_tz": -420
    },
    "id": "FYraRIWuSrMw",
    "outputId": "3e92c69e-50ef-436c-9450-80ac37d22df0"
   },
   "outputs": [
    {
     "name": "stdout",
     "output_type": "stream",
     "text": [
      "10    39\n",
      "11    43\n",
      "12    43\n",
      "13    42\n",
      "14    44\n",
      "15    60\n",
      "16    41\n",
      "17    36\n",
      "18    48\n",
      "19    59\n",
      "20    44\n",
      "Name: Time, dtype: int64\n"
     ]
    }
   ],
   "source": [
    "# Data For male\n",
    "male = data_gender_time[data_gender_time['Gender'] == 'Male']\n",
    "time_male_count = male.Time.value_counts().sort_index()\n",
    "print(time_male_count)"
   ]
  },
  {
   "cell_type": "code",
   "execution_count": 48,
   "metadata": {
    "colab": {
     "base_uri": "https://localhost:8080/"
    },
    "executionInfo": {
     "elapsed": 402,
     "status": "ok",
     "timestamp": 1636220631998,
     "user": {
      "displayName": "MH M",
      "photoUrl": "https://lh3.googleusercontent.com/a/default-user=s64",
      "userId": "08161873914285380179"
     },
     "user_tz": -420
    },
    "id": "Lgg6ZRYTS_bg",
    "outputId": "081f19dd-fb9e-4272-a77e-5ae7b2821dad"
   },
   "outputs": [
    {
     "name": "stdout",
     "output_type": "stream",
     "text": [
      "10    62\n",
      "11    47\n",
      "12    46\n",
      "13    61\n",
      "14    39\n",
      "15    42\n",
      "16    36\n",
      "17    38\n",
      "18    45\n",
      "19    54\n",
      "20    31\n",
      "Name: Time, dtype: int64\n"
     ]
    }
   ],
   "source": [
    "# Data For Female\n",
    "female = data_gender_time[data_gender_time['Gender'] == 'Female']\n",
    "time_female_count = female.Time.value_counts().sort_index()\n",
    "print(time_female_count)"
   ]
  },
  {
   "cell_type": "code",
   "execution_count": 90,
   "metadata": {
    "colab": {
     "base_uri": "https://localhost:8080/",
     "height": 827
    },
    "executionInfo": {
     "elapsed": 819,
     "status": "ok",
     "timestamp": 1636220740020,
     "user": {
      "displayName": "MH M",
      "photoUrl": "https://lh3.googleusercontent.com/a/default-user=s64",
      "userId": "08161873914285380179"
     },
     "user_tz": -420
    },
    "id": "bh4m5SKyP_Kw",
    "outputId": "71f5e0f3-9870-4231-c1a7-21b97381f24d"
   },
   "outputs": [
    {
     "data": {
      "text/plain": [
       "<Figure size 432x288 with 0 Axes>"
      ]
     },
     "metadata": {},
     "output_type": "display_data"
    },
    {
     "data": {
      "image/png": "[encoded data removed]",
      "text/plain": [
       "<Figure size 720x432 with 1 Axes>"
      ]
     },
     "metadata": {
      "needs_background": "light"
     },
     "output_type": "display_data"
    },
    {
     "data": {
      "text/plain": [
       "<Figure size 432x288 with 0 Axes>"
      ]
     },
     "metadata": {},
     "output_type": "display_data"
    },
    {
     "data": {
      "image/png": "[encoded data removed]",
      "text/plain": [
       "<Figure size 720x432 with 1 Axes>"
      ]
     },
     "metadata": {
      "needs_background": "light"
     },
     "output_type": "display_data"
    }
   ],
   "source": [
    "#Using matplotlib\n",
    "plt.clf()\n",
    "\n",
    "colors_male = sns.color_palette('pastel')[0:1]\n",
    "colors_female = sns.color_palette('pastel')[1:2]\n",
    "\n",
    "# Male\n",
    "plt.figure(0)\n",
    "plt.figure(figsize=(10, 6))\n",
    "x_male = time_male_count.index\n",
    "y_male = time_male_count.values\n",
    "plt.bar(x=x_male,\n",
    "        height=y_male,\n",
    "        width=0.5,\n",
    "       color='#3d6aff')\n",
    "plt.xlabel(\"Time\")\n",
    "plt.ylabel(\"Number of Purchases\")\n",
    "plt.title(\"Time of Male Buying in Supermarket\", fontsize=14)\n",
    "\n",
    "# Female\n",
    "plt.figure(1)\n",
    "plt.figure(figsize=(10, 6))\n",
    "x_female = time_female_count.index\n",
    "y_female = time_female_count.values\n",
    "plt.bar(x=x_female,\n",
    "        height=y_female,\n",
    "        width=0.5,\n",
    "       color='#f53172')\n",
    "plt.xlabel(\"Time\")\n",
    "plt.ylabel(\"Number of Purchases\")\n",
    "plt.title(\"Time of Female Buying in Supermarket\", fontsize=14)\n",
    "\n",
    "\n",
    "plt.show() #show all figures\n"
   ]
  },
  {
   "cell_type": "markdown",
   "metadata": {
    "id": "kzW_mWA5IwqD"
   },
   "source": [
    "## What kind of Payment Buyer Use, Based on Gender"
   ]
  },
  {
   "cell_type": "code",
   "execution_count": 72,
   "metadata": {
    "colab": {
     "base_uri": "https://localhost:8080/",
     "height": 452
    },
    "executionInfo": {
     "elapsed": 382,
     "status": "ok",
     "timestamp": 1636217723096,
     "user": {
      "displayName": "MH M",
      "photoUrl": "https://lh3.googleusercontent.com/a/default-user=s64",
      "userId": "08161873914285380179"
     },
     "user_tz": -420
    },
    "id": "K_LVtnKU8w10",
    "outputId": "6ff6e02c-c35f-4331-ca1b-800a93cf912c"
   },
   "outputs": [
    {
     "data": {
      "text/html": [
       "<div>\n",
       "<style scoped>\n",
       "    .dataframe tbody tr th:only-of-type {\n",
       "        vertical-align: middle;\n",
       "    }\n",
       "\n",
       "    .dataframe tbody tr th {\n",
       "        vertical-align: top;\n",
       "    }\n",
       "\n",
       "    .dataframe thead th {\n",
       "        text-align: right;\n",
       "    }\n",
       "</style>\n",
       "<table border=\"1\" class=\"dataframe\">\n",
       "  <thead>\n",
       "    <tr style=\"text-align: right;\">\n",
       "      <th></th>\n",
       "      <th></th>\n",
       "      <th>Invoice ID</th>\n",
       "    </tr>\n",
       "    <tr>\n",
       "      <th>Gender</th>\n",
       "      <th>Payment</th>\n",
       "      <th></th>\n",
       "    </tr>\n",
       "  </thead>\n",
       "  <tbody>\n",
       "    <tr>\n",
       "      <th rowspan=\"3\" valign=\"top\">Female</th>\n",
       "      <th>Cash</th>\n",
       "      <td>178</td>\n",
       "    </tr>\n",
       "    <tr>\n",
       "      <th>Credit card</th>\n",
       "      <td>163</td>\n",
       "    </tr>\n",
       "    <tr>\n",
       "      <th>Ewallet</th>\n",
       "      <td>160</td>\n",
       "    </tr>\n",
       "    <tr>\n",
       "      <th rowspan=\"3\" valign=\"top\">Male</th>\n",
       "      <th>Cash</th>\n",
       "      <td>166</td>\n",
       "    </tr>\n",
       "    <tr>\n",
       "      <th>Credit card</th>\n",
       "      <td>148</td>\n",
       "    </tr>\n",
       "    <tr>\n",
       "      <th>Ewallet</th>\n",
       "      <td>185</td>\n",
       "    </tr>\n",
       "  </tbody>\n",
       "</table>\n",
       "</div>"
      ],
      "text/plain": [
       "                    Invoice ID\n",
       "Gender Payment                \n",
       "Female Cash                178\n",
       "       Credit card         163\n",
       "       Ewallet             160\n",
       "Male   Cash                166\n",
       "       Credit card         148\n",
       "       Ewallet             185"
      ]
     },
     "execution_count": 72,
     "metadata": {},
     "output_type": "execute_result"
    }
   ],
   "source": [
    "# total quantity pembelian di tiap gender per roduct line\n",
    "payment_gender = df.groupby(['Gender', 'Payment'])[['Invoice ID']].count()\n",
    "payment_gender\n",
    "    "
   ]
  },
  {
   "cell_type": "code",
   "execution_count": 81,
   "metadata": {
    "colab": {
     "base_uri": "https://localhost:8080/"
    },
    "executionInfo": {
     "elapsed": 383,
     "status": "ok",
     "timestamp": 1636218019927,
     "user": {
      "displayName": "MH M",
      "photoUrl": "https://lh3.googleusercontent.com/a/default-user=s64",
      "userId": "08161873914285380179"
     },
     "user_tz": -420
    },
    "id": "otaxCQD_MTWn",
    "outputId": "f9c9f07e-f223-4a0c-8246-0cd4bfeef731"
   },
   "outputs": [
    {
     "data": {
      "text/plain": [
       "array([166, 148, 185], dtype=int64)"
      ]
     },
     "execution_count": 81,
     "metadata": {},
     "output_type": "execute_result"
    }
   ],
   "source": [
    "# convert 2d array to 1d array, Male\n",
    "male_payment = payment_gender.loc['Male'].values\n",
    "\n",
    "# male_payment.shape #2d array\n",
    "\n",
    "male_payment_1d = male_payment.flatten()\n",
    "male_payment_1d"
   ]
  },
  {
   "cell_type": "code",
   "execution_count": 82,
   "metadata": {},
   "outputs": [
    {
     "data": {
      "text/plain": [
       "(3,)"
      ]
     },
     "execution_count": 82,
     "metadata": {},
     "output_type": "execute_result"
    }
   ],
   "source": [
    "# convert 2d array to 1d array, Female\n",
    "female_payment = payment_gender.loc['Female'].values\n",
    "\n",
    "# female_qty.shape #2d array\n",
    "female_payment_1d = female_payment.flatten()\n",
    "female_payment_1d.shape"
   ]
  },
  {
   "cell_type": "code",
   "execution_count": 83,
   "metadata": {
    "colab": {
     "base_uri": "https://localhost:8080/",
     "height": 765
    },
    "executionInfo": {
     "elapsed": 705,
     "status": "ok",
     "timestamp": 1636218813018,
     "user": {
      "displayName": "MH M",
      "photoUrl": "https://lh3.googleusercontent.com/a/default-user=s64",
      "userId": "08161873914285380179"
     },
     "user_tz": -420
    },
    "id": "xI3JoU5dLUoz",
    "outputId": "c374993f-afdb-445d-ff1f-5964ad7aa4e3"
   },
   "outputs": [
    {
     "data": {
      "text/plain": [
       "<Figure size 432x288 with 0 Axes>"
      ]
     },
     "metadata": {},
     "output_type": "display_data"
    },
    {
     "data": {
      "image/png": "[encoded data removed]",
      "text/plain": [
       "<Figure size 720x432 with 1 Axes>"
      ]
     },
     "metadata": {},
     "output_type": "display_data"
    },
    {
     "data": {
      "text/plain": [
       "<Figure size 432x288 with 0 Axes>"
      ]
     },
     "metadata": {},
     "output_type": "display_data"
    },
    {
     "data": {
      "image/png": "[encoded data removed]",
      "text/plain": [
       "<Figure size 720x432 with 1 Axes>"
      ]
     },
     "metadata": {},
     "output_type": "display_data"
    }
   ],
   "source": [
    "#Using matplotlib\n",
    "plt.clf()\n",
    "\n",
    "colors_payment = sns.color_palette('Paired')[0:3]\n",
    "\n",
    "labels_payment = payment_gender.loc['Male'].index\n",
    "\n",
    "# Male\n",
    "plt.figure(0)\n",
    "plt.figure(figsize=(10, 6))\n",
    "plt.pie(x=male_payment_1d, \n",
    "        autopct=\"%.1f%%\", \n",
    "        explode=[0.05]*3, \n",
    "        labels=labels_payment, \n",
    "        colors = colors_payment,\n",
    "        pctdistance=0.5)\n",
    "plt.title(\"Type of Payment that Male Use\", fontsize=14)\n",
    "\n",
    "# Female\n",
    "plt.figure(1)\n",
    "plt.figure(figsize=(10, 6))\n",
    "plt.pie(x=female_payment_1d, \n",
    "        autopct=\"%.1f%%\", \n",
    "        explode=[0.05]*3, \n",
    "        colors = colors_payment,\n",
    "        labels=labels_payment, \n",
    "        pctdistance=0.5)\n",
    "plt.title(\"Type of Payment that Female Use\", fontsize=14)\n",
    "\n",
    "\n",
    "plt.show() #show all figures\n"
   ]
  },
  {
   "cell_type": "code",
   "execution_count": null,
   "metadata": {},
   "outputs": [],
   "source": []
  },
  {
   "cell_type": "code",
   "execution_count": null,
   "metadata": {},
   "outputs": [],
   "source": []
  },
  {
   "cell_type": "code",
   "execution_count": null,
   "metadata": {},
   "outputs": [],
   "source": []
  }
 ],
 "metadata": {
  "colab": {
   "collapsed_sections": [],
   "name": "Muhammad Hazim Mu'aafii_Final Project.ipynb",
   "provenance": []
  },
  "interpreter": {
   "hash": "0a105215805e6c249cc2bc277fdcd0c1b21629e9147f6739e558132ab4633d80"
  },
  "kernelspec": {
   "display_name": "Python 3",
   "language": "python",
   "name": "python3"
  },
  "language_info": {
   "codemirror_mode": {
    "name": "ipython",
    "version": 3
   },
   "file_extension": ".py",
   "mimetype": "text/x-python",
   "name": "python",
   "nbconvert_exporter": "python",
   "pygments_lexer": "ipython3",
   "version": "3.8.5"
  }
 },
 "nbformat": 4,
 "nbformat_minor": 1
}
